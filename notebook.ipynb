{
 "cells": [
  {
   "cell_type": "code",
   "execution_count": 2,
   "metadata": {},
   "outputs": [],
   "source": [
    "from __future__ import print_function\n",
    "\n",
    "import os, re\n",
    "import numpy as np\n",
    "from ase.io import read\n",
    "from optparse import OptionParser\n",
    "\n",
    "\n",
    "import matplotlib as mpl\n",
    "mpl.use('agg')\n",
    "mpl.rcParams['axes.unicode_minus'] = False\n",
    "\n",
    "import matplotlib.pyplot as plt\n",
    "from matplotlib.ticker import AutoMinorLocator\n",
    "from matplotlib.patches import Polygon\n",
    "import matplotlib.colors as mcolors"
   ]
  },
  {
   "cell_type": "code",
   "execution_count": 3,
   "metadata": {},
   "outputs": [],
   "source": [
    "def command_line_arg():\n",
    "    usage = \"usage: %prog [options] arg1 arg2\"\n",
    "    par = OptionParser(usage=usage, version=__version__)\n",
    "\n",
    "    par.add_option(\"-i\", '--input',\n",
    "                   action='store', type=\"string\", dest='dos',\n",
    "                   default='DOS',\n",
    "                   help='location of the DOS file')\n",
    "    \n",
    "    return par.parse_args()"
   ]
  },
  {
   "cell_type": "code",
   "execution_count": 6,
   "metadata": {},
   "outputs": [],
   "source": [
    "from time import time\n",
    "\n",
    "# __version__ = \"1.0\"\n",
    "\n",
    "# Read Commands Line\n",
    "# opts, args = command_line_arg()\n",
    "\n",
    "# xen, tdos, pdos = readDOSFromFile(opts)"
   ]
  },
  {
   "cell_type": "code",
   "execution_count": 27,
   "metadata": {},
   "outputs": [],
   "source": [
    "# This needs to change later\n",
    "inp = open(\"DOS\").readlines() \n",
    "nspin, nedos = 1, 5\n",
    "labels = inp[1].split()[1:]\n",
    "\n",
    "# Data\n",
    "DOS = np.array([line.split() for line in inp[2:] if line.strip()],\n",
    "                dtype=float)\n",
    "\n",
    "NoPdos = (DOS.shape[1] - 1) // nspin - 1\n",
    "\n",
    "'''\n",
    "So NoPdos represents the number of \n",
    "projected DOS components after \n",
    "removing those accounted for by energy and spin.\n",
    "\n",
    "Ex:\n",
    "NoPdos = (5 - 1) // 1 - 1 = 3\n",
    "This suggests that there are 3 projected \n",
    "DOS components (e.g., px, py, pz orbitals, etc.).\n",
    "\n",
    "'''\n",
    "\n",
    "tDOS = np.empty((nedos, nspin))\n",
    "\n",
    "'''\n",
    "tDOS (Total DOS)\n",
    "5 corresponds to nedos, which is the number \n",
    "of energy points (5 discrete energy values).\n",
    "\n",
    "1 corresponds to nspin, the number of \n",
    "spin channels (in this case, nspin = 1, \n",
    "meaning the system is spin-unpolarized).\n",
    "'''\n",
    "\n",
    "pDOS = []\n",
    "'''\n",
    "Projected DOS (pDOS) refers to the decomposition \n",
    "of the DOS onto specific atomic orbitals \n",
    "(like s, p, d, or f orbitals) or atoms.\n",
    "'''\n",
    "\n",
    "xen = DOS[:, 0]\n",
    "for ii in range(nspin):\n",
    "    tDOS[:, ii] = DOS[:, (ii + 1) * (NoPdos + 1)]\n",
    "for pp in range(NoPdos):\n",
    "    tmp = []\n",
    "    for ii in range(nspin):\n",
    "        tmp += [DOS[:, (pp + 1) + ii * (NoPdos + 1)]]\n",
    "    pDOS += [np.array(tmp).T]"
   ]
  },
  {
   "cell_type": "code",
   "execution_count": 28,
   "metadata": {},
   "outputs": [
    {
     "name": "stdout",
     "output_type": "stream",
     "text": [
      "3\n",
      "[[0.6 ]\n",
      " [0.45]\n",
      " [0.16]\n",
      " [0.1 ]\n",
      " [0.17]]\n"
     ]
    }
   ],
   "source": [
    "print(NoPdos)\n",
    "print(tDOS)"
   ]
  },
  {
   "cell_type": "code",
   "execution_count": 18,
   "metadata": {},
   "outputs": [],
   "source": [
    "# This needs to change later\n",
    "inp = open(\"dos.xy\").readlines() \n",
    "labels = inp[0].split()[1:]\n",
    "\n",
    "# Data\n",
    "DOS = np.array([line.split() for line in inp[1:] if line.strip()],\n",
    "                dtype=float)"
   ]
  },
  {
   "cell_type": "code",
   "execution_count": 21,
   "metadata": {},
   "outputs": [
    {
     "name": "stdout",
     "output_type": "stream",
     "text": [
      "(501, 4)\n"
     ]
    }
   ],
   "source": [
    "print(DOS.shape)"
   ]
  },
  {
   "cell_type": "code",
   "execution_count": 23,
   "metadata": {},
   "outputs": [
    {
     "name": "stdout",
     "output_type": "stream",
     "text": [
      "3\n"
     ]
    }
   ],
   "source": [
    "print(NoPdos)"
   ]
  }
 ],
 "metadata": {
  "kernelspec": {
   "display_name": "base",
   "language": "python",
   "name": "python3"
  },
  "language_info": {
   "codemirror_mode": {
    "name": "ipython",
    "version": 3
   },
   "file_extension": ".py",
   "mimetype": "text/x-python",
   "name": "python",
   "nbconvert_exporter": "python",
   "pygments_lexer": "ipython3",
   "version": "3.12.4"
  }
 },
 "nbformat": 4,
 "nbformat_minor": 2
}
